{
 "cells": [
  {
   "cell_type": "code",
   "execution_count": 1,
   "metadata": {},
   "outputs": [
    {
     "data": {
      "text/plain": [
       "true"
      ]
     },
     "metadata": {},
     "output_type": "display_data"
    }
   ],
   "source": [
    "using QuantumOptics\n",
    "using PyPlot\n",
    "PyPlot.pygui(true)"
   ]
  },
  {
   "cell_type": "code",
   "execution_count": 666,
   "metadata": {},
   "outputs": [
    {
     "data": {
      "text/plain": [
       "5001-element Vector{Float64}:\n",
       " 0.0\n",
       " 0.001\n",
       " 0.002\n",
       " 0.003\n",
       " 0.004\n",
       " 0.005\n",
       " 0.006\n",
       " 0.007\n",
       " 0.008\n",
       " 0.009\n",
       " ⋮\n",
       " 4.992\n",
       " 4.993\n",
       " 4.994\n",
       " 4.995\n",
       " 4.996\n",
       " 4.997\n",
       " 4.998\n",
       " 4.999\n",
       " 5.0"
      ]
     },
     "metadata": {},
     "output_type": "display_data"
    }
   ],
   "source": [
    "# Parameters\n",
    "γ2 = sqrt(2pi * 0.182) # in MHz, intermediate state decay to |1>\n",
    "γ3 = sqrt(0.01) # in MHz, Rydberg decay to |4> (some other states we don't care about). 0.01MHz ~ 100us\n",
    "\n",
    "beamWaistOutofPlane = 15\n",
    "beamWaistInPlane = 600\n",
    "radiusofArray = 400\n",
    "\n",
    "\n",
    "Ω1 = 5.5*sqrt(1.73/0.018*15/beamWaistInPlane*15/beamWaistOutofPlane) * 2pi     # in MHz\n",
    "Ω2 = 5.5*sqrt(1.73/0.018*15/beamWaistInPlane*15/beamWaistOutofPlane) * 2pi # in MHz\n",
    "\n",
    "Ω1Edge = Ω1*sqrt(exp(-2*(radiusofArray/beamWaistInPlane)^2))\n",
    "Ω2Edge = Ω2*sqrt(exp(-2*(radiusofArray/beamWaistInPlane)^2))\n",
    "\n",
    "\n",
    "Δ = 0     # in MHz\n",
    "tmax = 5  # in μs\n",
    "dt = 0.001\n",
    "tlist = [0:dt:tmax;]"
   ]
  },
  {
   "cell_type": "code",
   "execution_count": 667,
   "metadata": {},
   "outputs": [
    {
     "data": {
      "text/plain": [
       "Operator(dim=4x4)\n",
       "  basis: NLevel(N=4)sparse([3], [3], ComplexF64[1.0 + 0.0im], 4, 4)"
      ]
     },
     "metadata": {},
     "output_type": "display_data"
    }
   ],
   "source": [
    "# Basis and operators\n",
    "b = NLevelBasis(4)\n",
    "σ1 = transition(b, 1, 2)  # |1><2|\n",
    "σ2 = transition(b, 2, 3)  # |2><3|\n",
    "Ryd = transition(b, 4, 3)  # |4><3|, decay out of the system\n",
    "proj1 = transition(b, 1, 1) # |1><1|\n",
    "proj2 = transition(b, 2, 2) # |2><2|\n",
    "proj3 = transition(b, 3, 3)     # |3><3|"
   ]
  },
  {
   "cell_type": "code",
   "execution_count": 668,
   "metadata": {},
   "outputs": [
    {
     "data": {
      "text/plain": [
       "Ket(dim=4)\n",
       "  basis: NLevel(N=4)\n",
       " 1.0 + 0.0im\n",
       " 0.0 + 0.0im\n",
       " 0.0 + 0.0im\n",
       " 0.0 + 0.0im"
      ]
     },
     "metadata": {},
     "output_type": "display_data"
    }
   ],
   "source": [
    "# Hamiltonian and jump operators\n",
    "J = [γ2*σ1+γ3*Ryd];\n",
    "Jdagger = [γ2*dagger(σ1)+γ3*dagger(Ryd)]; \n",
    "\n",
    "# Initial state\n",
    "ψ0 = nlevelstate(b, 1)"
   ]
  },
  {
   "cell_type": "code",
   "execution_count": 859,
   "metadata": {},
   "outputs": [
    {
     "data": {
      "text/plain": [
       "HEdge (generic function with 1 method)"
      ]
     },
     "metadata": {},
     "output_type": "display_data"
    }
   ],
   "source": [
    "# Define the Gaussian function\n",
    "function gaussian(t, mu, sigma, A)\n",
    "    return A * exp(-(t - mu)^2 / (2 * sigma^2))\n",
    "end\n",
    "\n",
    "mu1 = 2.8  # center of the peak in us\n",
    "mu2 = 2  # center of the peak in us\n",
    "sigma = 0.45 # span of in us\n",
    "tau = 0.01  # time resolution in us\n",
    "\n",
    "# Define the driving term functions for the center\n",
    "function H(t, psi)\n",
    "    # Round the current time to the nearest multiple of tau\n",
    "    t_rounded = round(t / tau) * tau\n",
    "    return 0.5*(σ1+dagger(σ1))*gaussian(t_rounded, mu1, sigma, Ω1)+0.5*(σ2+dagger(σ2))*gaussian(t_rounded, mu2, sigma, Ω2)+Δ*proj2+1im*γ3*proj3, J, Jdagger\n",
    "end\n",
    "\n",
    "# h_mu2 = H(mu2,ψ0)\n",
    "\n",
    "# Plots\n",
    "figure(figsize=(6, 3))\n",
    "plot(tlist, gaussian.(tlist, mu1, sigma, Ω1), label=\"1-2\")\n",
    "plot(tlist, gaussian.(tlist, mu2, sigma, Ω2), label=\"2-3\")\n",
    "axis([0, tmax, 0, Ω1])\n",
    "legend()\n",
    "PyPlot.show(block=false)\n",
    "\n",
    "# Define the driving term functions for the edge of the array\n",
    "function HEdge(t, psi)\n",
    "    # Round the current time to the nearest multiple of tau\n",
    "    t_rounded = round(t / tau) * tau\n",
    "    return 0.5*(σ1+dagger(σ1))*gaussian(t_rounded, mu1, sigma, Ω1Edge)+0.5*(σ2+dagger(σ2))*gaussian(t_rounded, mu2, sigma, Ω2Edge)+Δ*proj2+1im*γ3*proj3, J, Jdagger\n",
    "end\n",
    "\n",
    "#=\n",
    "function H_pump2(t, psi)\n",
    "    mu = 3e-6  # center of the peak at 3us\n",
    "    sigma = 1e-6  # span of 1us\n",
    "    tau = 1e-9  # time resolution of 1ns\n",
    "    # Round the current time to the nearest multiple of tau\n",
    "    t_rounded = round(t / tau) * tau\n",
    "    return dagger(σ2)*gaussian(t_rounded, mu, sigma, Ω2)\n",
    "end\n",
    "=#"
   ]
  },
  {
   "cell_type": "code",
   "execution_count": 860,
   "metadata": {},
   "outputs": [
    {
     "data": {
      "text/plain": [
       "calc_pops (generic function with 1 method)"
      ]
     },
     "metadata": {},
     "output_type": "display_data"
    }
   ],
   "source": [
    "# Expectation values\n",
    "function calc_pops(t, ρ)\n",
    "    p1 = real(expect(proj1, ρ))\n",
    "    p2 = real(expect(proj2, ρ))\n",
    "    p3 = real(expect(proj3, ρ))\n",
    "    return p1, p2, p3\n",
    "end"
   ]
  },
  {
   "cell_type": "code",
   "execution_count": 861,
   "metadata": {},
   "outputs": [
    {
     "data": {
      "text/plain": [
       "([0.0, 0.001, 0.002, 0.003, 0.004, 0.005, 0.006, 0.007, 0.008, 0.009  …  4.991, 4.992, 4.993, 4.994, 4.995, 4.996, 4.997, 4.998, 4.999, 5.0], Tuple{Any, Any, Any}[(1.0, 0.0, 0.0), (1.0, 1.544300660302515e-20, 3.3699663499700983e-28), (1.0, 6.057782606685151e-20, 1.3083689185843527e-27), (1.0, 1.3367409932550213e-19, 2.8560399310367935e-27), (1.0, 2.330827225821886e-19, 4.923732102469491e-27), (1.0, 3.572358473093258e-19, 7.456967212837994e-27), (1.0, 5.0464688024851745e-19, 1.0403066391938237e-26), (1.0, 6.739104834105527e-19, 1.3711150119406558e-26), (1.0, 8.637025740754332e-19, 1.7332138224719678e-26), (1.0, 1.0727803247923415e-18, 2.1218749887194706e-26)  …  (0.0036574032997914747, 0.00053980966411973, 0.9703797832680727), (0.003658020158447953, 0.0005391928054397239, 0.9703700795187824), (0.0036586363134100317, 0.0005385766504546578, 0.9703603758665285), (0.003659251765491734, 0.0005379611983505184, 0.9703506723113101), (0.0036598665155065614, 0.000537346448313814, 0.9703409688531263), (0.0036604805642674906, 0.0005367323995315774, 0.9703312654919759), (0.0036610939125869767, 0.0005361190511913645, 0.9703215622278581), (0.003661706561276953, 0.0005355064024812526, 0.9703118590607719), (0.0036623185111488276, 0.0005348944525898445, 0.9703021559907162), (0.0036629297630134893, 0.0005342832007062635, 0.9702924530176902)])"
      ]
     },
     "metadata": {},
     "output_type": "display_data"
    }
   ],
   "source": [
    "# Time evolution\n",
    "tout, pops = timeevolution.master_dynamic(tlist, ψ0, H; fout=calc_pops)\n",
    "toutEdge, popsEdge = timeevolution.master_dynamic(tlist, ψ0, HEdge; fout=calc_pops)"
   ]
  },
  {
   "cell_type": "code",
   "execution_count": 862,
   "metadata": {},
   "outputs": [],
   "source": [
    "# Reshape pops\n",
    "p1 = [p[1] for p=pops]\n",
    "p2 = [p[2] for p=pops]\n",
    "p3 = [p[3] for p=pops]\n",
    "final_p3 = round(maximum(p3), digits=4)\n",
    "final_p3_str = string(final_p3)\n",
    "# Plots\n",
    "figure(figsize=(6, 3))\n",
    "plot(tout, p1, label=\"Initial ground state\")\n",
    "plot(tout, p2, \"--\", label=\"Intermediate state\")\n",
    "plot(tout, p3, label=\"Excited state\")\n",
    "title(\"Maximum p3 Center: $final_p3_str\")\n",
    "axis([0, tmax, 0, 1])\n",
    "legend()\n",
    "PyPlot.show(block=false)"
   ]
  },
  {
   "cell_type": "code",
   "execution_count": 863,
   "metadata": {},
   "outputs": [],
   "source": [
    "# Reshape pops\n",
    "p1Edge = [p[1] for p=popsEdge]\n",
    "p2Edge = [p[2] for p=popsEdge]\n",
    "p3Edge = [p[3] for p=popsEdge]\n",
    "final_p3_Edge = round(maximum(p3Edge), digits=4)\n",
    "final_p3_str_Edge = string(final_p3_Edge)\n",
    "# Plots\n",
    "figure(figsize=(6, 3))\n",
    "plot(toutEdge, p1Edge, label=\"Initial ground state\")\n",
    "plot(toutEdge, p2Edge, \"--\", label=\"Intermediate state\")\n",
    "plot(toutEdge, p3Edge, label=\"Excited state\")\n",
    "title(\"Maximum p3 Edge: $final_p3_str_Edge\")\n",
    "axis([0, tmax, 0, 1])\n",
    "legend()\n",
    "PyPlot.show(block=false)"
   ]
  }
 ],
 "metadata": {
  "kernelspec": {
   "display_name": "Julia 1.10.3",
   "language": "julia",
   "name": "julia-1.10"
  },
  "language_info": {
   "file_extension": ".jl",
   "mimetype": "application/julia",
   "name": "julia",
   "version": "1.10.3"
  }
 },
 "nbformat": 4,
 "nbformat_minor": 2
}
