{
 "cells": [
  {
   "cell_type": "code",
   "execution_count": 9,
   "metadata": {},
   "outputs": [
    {
     "data": {
      "text/plain": [
       "true"
      ]
     },
     "metadata": {},
     "output_type": "display_data"
    }
   ],
   "source": [
    "using QuantumOptics\n",
    "using PyPlot\n",
    "PyPlot.pygui(true)"
   ]
  },
  {
   "cell_type": "code",
   "execution_count": 10,
   "metadata": {},
   "outputs": [
    {
     "data": {
      "text/plain": [
       "8001-element Vector{Float64}:\n",
       " 0.0\n",
       " 0.001\n",
       " 0.002\n",
       " 0.003\n",
       " 0.004\n",
       " 0.005\n",
       " 0.006\n",
       " 0.007\n",
       " 0.008\n",
       " 0.009\n",
       " ⋮\n",
       " 7.992\n",
       " 7.993\n",
       " 7.994\n",
       " 7.995\n",
       " 7.996\n",
       " 7.997\n",
       " 7.998\n",
       " 7.999\n",
       " 8.0"
      ]
     },
     "metadata": {},
     "output_type": "display_data"
    }
   ],
   "source": [
    "# Parameters\n",
    "γ2 = 0.2 # in MHz, intermediate state decay to |1>\n",
    "γ3 = 0.01 # in MHz, Rydberg decay to |4> (some other states we don't care about). 0.01MHz ~ 100us\n",
    "Ω1 = Ω2 = 5     # in MHz \n",
    "Δ = 0     # in MHz\n",
    "tmax = 8  # in μs\n",
    "dt = 0.001\n",
    "tlist = [0:dt:tmax;]"
   ]
  },
  {
   "cell_type": "code",
   "execution_count": 11,
   "metadata": {},
   "outputs": [
    {
     "data": {
      "text/plain": [
       "Operator(dim=4x4)\n",
       "  basis: NLevel(N=4)sparse([3], [3], ComplexF64[1.0 + 0.0im], 4, 4)"
      ]
     },
     "metadata": {},
     "output_type": "display_data"
    }
   ],
   "source": [
    "# Basis and operators\n",
    "b = NLevelBasis(4)\n",
    "σ1 = transition(b, 1, 2)  # |1><2|\n",
    "σ2 = transition(b, 2, 3)  # |2><3|\n",
    "Ryd = transition(b, 4, 3)  # |4><3|, decay out of the system\n",
    "proj1 = transition(b, 1, 1) # |1><1|\n",
    "proj2 = transition(b, 2, 2) # |2><2|\n",
    "proj3 = transition(b, 3, 3)     # |3><3|"
   ]
  },
  {
   "cell_type": "code",
   "execution_count": 12,
   "metadata": {},
   "outputs": [
    {
     "data": {
      "text/plain": [
       "Ket(dim=4)\n",
       "  basis: NLevel(N=4)\n",
       " 1.0 + 0.0im\n",
       " 0.0 + 0.0im\n",
       " 0.0 + 0.0im\n",
       " 0.0 + 0.0im"
      ]
     },
     "metadata": {},
     "output_type": "display_data"
    }
   ],
   "source": [
    "# Hamiltonian and jump operators\n",
    "J = [γ2*σ1+γ3*Ryd];\n",
    "Jdagger = [γ2*dagger(σ1)+γ3*dagger(Ryd)]; \n",
    "\n",
    "# Initial state\n",
    "ψ0 = nlevelstate(b, 1)"
   ]
  },
  {
   "cell_type": "code",
   "execution_count": 13,
   "metadata": {},
   "outputs": [],
   "source": [
    "# Define the Gaussian function\n",
    "function gaussian(t, mu, sigma, A)\n",
    "    return A * exp(-(t - mu)^2 / (2 * sigma^2))\n",
    "end\n",
    "\n",
    "mu1 = 4.1  # center of the peak in us\n",
    "mu2 = 3  # center of the peak in us\n",
    "sigma = 0.8 # span of in us\n",
    "tau = 0.01  # time resolution in us\n",
    "\n",
    "white_noise = 0.1\n",
    "\n",
    "# Define the driving term functions\n",
    "function H(t, psi)\n",
    "    # Round the current time to the nearest multiple of tau\n",
    "    t_rounded = round(t / tau) * tau\n",
    "    return 0.5*(σ1+dagger(σ1))*gaussian(t_rounded, mu1, sigma, Ω1)+0.5*(σ2+dagger(σ2))*gaussian(t_rounded, mu2, sigma, Ω2)+Δ*proj2+1im*γ3*proj3, J, Jdagger\n",
    "end\n",
    "\n",
    "# h_mu2 = H(mu2,ψ0)\n",
    "\n",
    "# Plots\n",
    "figure(figsize=(6, 3))\n",
    "plot(tlist, gaussian.(tlist, mu1, sigma, Ω1), label=\"1-2\")\n",
    "plot(tlist, gaussian.(tlist, mu2, sigma, Ω2), label=\"2-3\")\n",
    "axis([0, tmax, 0, Ω1])\n",
    "legend()\n",
    "PyPlot.show(block=false)\n",
    "\n",
    "#=\n",
    "function H_pump2(t, psi)\n",
    "    mu = 3e-6  # center of the peak at 3us\n",
    "    sigma = 1e-6  # span of 1us\n",
    "    tau = 1e-9  # time resolution of 1ns\n",
    "    # Round the current time to the nearest multiple of tau\n",
    "    t_rounded = round(t / tau) * tau\n",
    "    return dagger(σ2)*gaussian(t_rounded, mu, sigma, Ω2)\n",
    "end\n",
    "=#"
   ]
  },
  {
   "cell_type": "code",
   "execution_count": 14,
   "metadata": {},
   "outputs": [
    {
     "data": {
      "text/plain": [
       "calc_pops (generic function with 1 method)"
      ]
     },
     "metadata": {},
     "output_type": "display_data"
    }
   ],
   "source": [
    "# Expectation values\n",
    "function calc_pops(t, ρ)\n",
    "    p1 = real(expect(proj1, ρ))\n",
    "    p2 = real(expect(proj2, ρ))\n",
    "    p3 = real(expect(proj3, ρ))\n",
    "    return p1, p2, p3\n",
    "end"
   ]
  },
  {
   "cell_type": "code",
   "execution_count": 15,
   "metadata": {},
   "outputs": [
    {
     "data": {
      "text/plain": [
       "([0.0, 0.001, 0.002, 0.003, 0.004, 0.005, 0.006, 0.007, 0.008, 0.009  …  7.991, 7.992, 7.993, 7.994, 7.995, 7.996, 7.997, 7.998, 7.999, 8.0], Tuple{Any, Any, Any}[(1.0, 0.0, 0.0), (1.0, 4.217536228708562e-17, 4.80012454600727e-24), (0.9999999999999998, 1.6790724003344744e-16, 1.879752878264403e-23), (0.9999999999999997, 3.760461130666339e-16, 4.1398632401660976e-23), (0.9999999999999993, 6.65498185880681e-16, 7.202435348657848e-23), (0.999999999999999, 1.0352253876361652e-15, 1.1011010851268826e-22), (0.9999999999999986, 1.4842453721601542e-15, 1.5510581234705212e-22), (0.999999999999998, 2.0116315179462078e-15, 2.0647587824850123e-22), (0.9999999999999973, 2.6165129281544424e-15, 2.636992178676399e-22), (0.9999999999999967, 3.2980744306114464e-15, 3.2626924124683974e-22)  …  (0.004105902145354073, 0.00438852858871656, 0.9910755091271779), (0.004106077608804247, 0.0043883531262680076, 0.9910754100186303), (0.004106253065915406, 0.004388177670146713, 0.9910753109101044), (0.0041064285166983, 0.004388002220341749, 0.9910752118016003), (0.004106603961163894, 0.004387826776841969, 0.9910751126931182), (0.004106779399323361, 0.004387651339636014, 0.9910750135846584), (0.00410695483118809, 0.004387475908712306, 0.991074914476221), (0.00410713025676968, 0.004387300484059053, 0.9910748153678062), (0.004107305676079941, 0.004387125065664244, 0.9910747162594141), (0.004107481089130896, 0.004386949653515657, 0.9910746171510451)])"
      ]
     },
     "metadata": {},
     "output_type": "display_data"
    }
   ],
   "source": [
    "# Time evolution\n",
    "tout, pops = timeevolution.master_dynamic(tlist, ψ0, H; fout=calc_pops)"
   ]
  },
  {
   "cell_type": "code",
   "execution_count": 16,
   "metadata": {},
   "outputs": [],
   "source": [
    "# Reshape pops\n",
    "p1 = [p[1] for p=pops]\n",
    "p2 = [p[2] for p=pops]\n",
    "p3 = [p[3] for p=pops]\n",
    "final_p3 = round(p3[end], digits=4)\n",
    "final_p3_str = string(final_p3)\n",
    "# Plots\n",
    "figure(figsize=(6, 3))\n",
    "plot(tout, p1, label=\"Initial ground state\")\n",
    "plot(tout, p2, \"--\", label=\"Intermediate state\")\n",
    "plot(tout, p3, label=\"Excited state\")\n",
    "title(\"Final p3: $final_p3_str\")\n",
    "axis([0, tmax, 0, 1])\n",
    "legend()\n",
    "PyPlot.show(block=false)"
   ]
  }
 ],
 "metadata": {
  "kernelspec": {
   "display_name": "Julia 1.10.4",
   "language": "julia",
   "name": "julia-1.10"
  },
  "language_info": {
   "file_extension": ".jl",
   "mimetype": "application/julia",
   "name": "julia",
   "version": "1.10.4"
  }
 },
 "nbformat": 4,
 "nbformat_minor": 2
}
