{
 "cells": [
  {
   "cell_type": "code",
   "execution_count": 3,
   "metadata": {},
   "outputs": [],
   "source": [
    "using QuantumOptics\n",
    "using PyPlot\n",
    "PyPlot.pygui(true)\n",
    "using PyCall\n",
    "pyyetiPSD = pyimport(\"pyyeti.psd\")\n",
    "using XLSX: XLSX\n",
    "np = pyimport(\"numpy\")\n",
    "using Statistics"
   ]
  },
  {
   "cell_type": "code",
   "execution_count": 4,
   "metadata": {},
   "outputs": [],
   "source": [
    "freq1 = []\n",
    "psd1 = []\n",
    "XLSX.openxlsx(\"test1.xlsx\", enable_cache = false) do f\n",
    "\tsheet = f[\"Sheet1\"]\n",
    "\tfor r in XLSX.eachrow(sheet)\n",
    "\t\t# r is a `SheetRow`, values are read  \n",
    "\t\t# using column references \n",
    "\t\tappend!(freq1, r[1])    # will read value at column 1 \n",
    "\t\tappend!(psd1, r[4])    # will read value at column 2 \n",
    "\tend\n",
    "end\n",
    "\n",
    "spec1 = np.array([freq1, psd1])\n",
    "spec1 = np.transpose(spec1)\n",
    "\n",
    "# https://pyyeti.readthedocs.io/en/latest/modules/generated/pyyeti.psd.psd2time.html\n",
    "# Everything is in seconds/Hz\n",
    "sig1, sr1, time1 = pyyetiPSD.psd2time(spec1, fstart = 10^5, fstop = 1.5 * 10^7, ppc = 30, df = 50000, gettime = true)\n",
    "\n",
    "\n",
    "freq2 = []\n",
    "psd2 = []\n",
    "XLSX.openxlsx(\"test2.xlsx\", enable_cache = false) do f\n",
    "\tsheet = f[\"Sheet1\"]\n",
    "\tfor r in XLSX.eachrow(sheet)\n",
    "\t\t# r is a `SheetRow`, values are read  \n",
    "\t\t# using column references \n",
    "\t\tappend!(freq2, r[1])    # will read value at column 1 \n",
    "\t\tappend!(psd2, r[4])    # will read value at column 2 \n",
    "\tend\n",
    "end\n",
    "\n",
    "spec2 = np.array([freq2, psd2])\n",
    "spec2 = np.transpose(spec2)\n",
    "\n",
    "# https://pyyeti.readthedocs.io/en/latest/modules/generated/pyyeti.psd.psd2time.html\n",
    "# Everything is in seconds/Hz\n",
    "sig2, sr2, time2 = pyyetiPSD.psd2time(spec2, fstart = 10^5, fstop = 1.5 * 10^7, ppc = 30, df = 50000, gettime = true)\n",
    "\n",
    "if (time1 != time2)\n",
    "    println(\"Time vectors are not the same\")\n",
    "end\n",
    "\n",
    "plot(time1, sig1)\n",
    "plot(time2, sig2)\n",
    "PyPlot.show(block = false)"
   ]
  },
  {
   "cell_type": "code",
   "execution_count": 5,
   "metadata": {},
   "outputs": [
    {
     "data": {
      "text/plain": [
       "9000-element Vector{Float64}:\n",
       "  0.0\n",
       "  0.0022222222222222222\n",
       "  0.0044444444444444444\n",
       "  0.006666666666666667\n",
       "  0.008888888888888889\n",
       "  0.011111111111111112\n",
       "  0.013333333333333334\n",
       "  0.015555555555555557\n",
       "  0.017777777777777778\n",
       "  0.02\n",
       "  ⋮\n",
       " 19.979999999999997\n",
       " 19.98222222222222\n",
       " 19.984444444444442\n",
       " 19.986666666666665\n",
       " 19.988888888888887\n",
       " 19.99111111111111\n",
       " 19.993333333333332\n",
       " 19.995555555555555\n",
       " 19.997777777777777"
      ]
     },
     "metadata": {},
     "output_type": "display_data"
    }
   ],
   "source": [
    "# Parameters\n",
    "γ2 = 0.2 # in MHz, intermediate state decay to |1>\n",
    "γ3 = 0.01 # in MHz, Rydberg decay to |4> (some other states we don't care about). 0.01MHz ~ 100us\n",
    "Ω1 = Ω2 = 5     # in MHz \n",
    "Δ = 0     # in MHz\n",
    "tmax = 8  # in μs\n",
    "dt = 0.001\n",
    "# tlist = [0:dt:tmax;]\n",
    "tlist = time1*10^6 # time list that we'll evolve our Hamiltonian in μs"
   ]
  },
  {
   "cell_type": "code",
   "execution_count": 6,
   "metadata": {},
   "outputs": [
    {
     "data": {
      "text/plain": [
       "Operator(dim=4x4)\n",
       "  basis: NLevel(N=4)sparse([3], [3], ComplexF64[1.0 + 0.0im], 4, 4)"
      ]
     },
     "metadata": {},
     "output_type": "display_data"
    }
   ],
   "source": [
    "# Basis and operators\n",
    "b = NLevelBasis(4)\n",
    "σ1 = transition(b, 1, 2)  # |1><2|\n",
    "σ2 = transition(b, 2, 3)  # |2><3|\n",
    "Ryd = transition(b, 4, 3)  # |4><3|, decay out of the system\n",
    "proj1 = transition(b, 1, 1) # |1><1|\n",
    "proj2 = transition(b, 2, 2) # |2><2|\n",
    "proj3 = transition(b, 3, 3)     # |3><3|"
   ]
  },
  {
   "cell_type": "code",
   "execution_count": 7,
   "metadata": {},
   "outputs": [
    {
     "data": {
      "text/plain": [
       "Ket(dim=4)\n",
       "  basis: NLevel(N=4)\n",
       " 1.0 + 0.0im\n",
       " 0.0 + 0.0im\n",
       " 0.0 + 0.0im\n",
       " 0.0 + 0.0im"
      ]
     },
     "metadata": {},
     "output_type": "display_data"
    }
   ],
   "source": [
    "# Hamiltonian and jump operators\n",
    "J = [γ2 * σ1 + γ3 * Ryd];\n",
    "Jdagger = [γ2 * dagger(σ1) + γ3 * dagger(Ryd)];\n",
    "\n",
    "# Initial state\n",
    "ψ0 = nlevelstate(b, 1)\n"
   ]
  },
  {
   "cell_type": "code",
   "execution_count": 8,
   "metadata": {},
   "outputs": [],
   "source": [
    "# Define the Gaussian function\n",
    "function gaussian(t, mu, sigma, A)\n",
    "    return A * exp(-(t - mu)^2 / (2 * sigma^2))\n",
    "end\n",
    "\n",
    "# Phase fluctuation for the first driving term\n",
    "function phi1(t)\n",
    "    index = round(Int, t / 10^6 * sr1) + 1\n",
    "    return sig1[index]\n",
    "end\n",
    "\n",
    "# Phase fluctuation for the second driving term, but for now it's the same as phi1\n",
    "function phi2(t)\n",
    "    index = round(Int, t / 10^6 * sr2) + 1\n",
    "    return sig2[index]\n",
    "end\n",
    "\n",
    "\n",
    "mu1 = 4.1  # center of the peak in us\n",
    "mu2 = 3  # center of the peak in us\n",
    "sigma = 0.8 # span of in us\n",
    "tau = 0.01  # time resolution of the pulse in us\n",
    "\n",
    "white_noise = 0.1\n",
    "\n",
    "# Define the driving term functions\n",
    "function H(t, psi)\n",
    "    # Round the current time to the nearest multiple of tau\n",
    "    t_rounded = round(t / tau) * tau\n",
    "    return 0.5*(σ1*exp(1im*phi1(t))+dagger(σ1)*exp(-1im*phi1(t)))*gaussian(t_rounded, mu1, sigma, Ω1)+0.5*(σ2*exp(1im*phi2(t))+dagger(σ2)*exp(-1im*phi2(t)))*gaussian(t_rounded, mu2, sigma, Ω2)+Δ*proj2+1im*γ3*proj3, J, Jdagger\n",
    "end\n",
    "\n",
    "# h_mu2 = H(mu2,ψ0)\n",
    "\n",
    "# Plots\n",
    "figure(figsize=(6, 3))\n",
    "plot(tlist, gaussian.(tlist, mu1, sigma, Ω1), label=\"1-2\")\n",
    "plot(tlist, gaussian.(tlist, mu2, sigma, Ω2), label=\"2-3\")\n",
    "axis([0, tmax, 0, Ω1])\n",
    "legend()\n",
    "PyPlot.show(block=false)\n",
    "\n",
    "#=\n",
    "function H_pump2(t, psi)\n",
    "    mu = 3e-6  # center of the peak at 3us\n",
    "    sigma = 1e-6  # span of 1us\n",
    "    tau = 1e-9  # time resolution of 1ns\n",
    "    # Round the current time to the nearest multiple of tau\n",
    "    t_rounded = round(t / tau) * tau\n",
    "    return dagger(σ2)*gaussian(t_rounded, mu, sigma, Ω2)\n",
    "end\n",
    "=#"
   ]
  },
  {
   "cell_type": "code",
   "execution_count": 9,
   "metadata": {},
   "outputs": [
    {
     "data": {
      "text/plain": [
       "calc_pops (generic function with 1 method)"
      ]
     },
     "metadata": {},
     "output_type": "display_data"
    }
   ],
   "source": [
    "# Expectation values\n",
    "function calc_pops(t, ρ)\n",
    "\tp1 = real(expect(proj1, ρ))\n",
    "\tp2 = real(expect(proj2, ρ))\n",
    "\tp3 = real(expect(proj3, ρ))\n",
    "\treturn p1, p2, p3\n",
    "end\n"
   ]
  },
  {
   "cell_type": "code",
   "execution_count": 10,
   "metadata": {},
   "outputs": [],
   "source": [
    "tout = []\n",
    "pops = []\n",
    "p1 = []\n",
    "p2 = []\n",
    "p3 = []\n",
    "\n",
    "instance = 100\n",
    "\n",
    "for i in 1:instance\n",
    "    # renew the phase fluctuation\n",
    "    sig1, sr1, time1 = pyyetiPSD.psd2time(spec1, fstart = 10^5, fstop = 1.5 * 10^7, ppc = 30, df = 50000, gettime = true)\n",
    "    sig2, sr2, time2 = pyyetiPSD.psd2time(spec2, fstart = 10^5, fstop = 1.5 * 10^7, ppc = 30, df = 50000, gettime = true)\n",
    "\n",
    "    # Time evolution\n",
    "    toutTemp, popsTemp = timeevolution.master_dynamic(tlist, ψ0, H; fout = calc_pops)\n",
    "\n",
    "    # Extract populations\n",
    "    p1Temp = [p[1] for p ∈ popsTemp]\n",
    "    p2Temp = [p[2] for p ∈ popsTemp]\n",
    "    p3Temp = [p[3] for p ∈ popsTemp]\n",
    "\n",
    "    # Store the results\n",
    "    push!(tout, toutTemp)\n",
    "    push!(pops, popsTemp)\n",
    "    push!(p1, p1Temp)\n",
    "    push!(p2, p2Temp)\n",
    "    push!(p3, p3Temp)\n",
    "end\n"
   ]
  },
  {
   "cell_type": "code",
   "execution_count": 11,
   "metadata": {},
   "outputs": [],
   "source": [
    "toutAvg = tout[1]\n",
    "# Reshape pops\n",
    "p1Avg = mean(p1, dims = 1)[1]\n",
    "p2Avg = mean(p2, dims = 1)[1]\n",
    "p3Avg = mean(p3, dims = 1)[1]\n",
    "\n",
    "p3AvgFinal = round(p3Avg[end], digits = 4)\n",
    "p3AvgFinalStr = string(p3AvgFinal)\n",
    "\n",
    "# Plots\n",
    "figure(figsize = (6, 3))\n",
    "plot(toutAvg, p1Avg, label = \"Initial ground state\")\n",
    "plot(toutAvg, p2Avg, \"--\", label = \"Intermediate state\")\n",
    "plot(toutAvg, p3Avg, label = \"Excited state\")\n",
    "title(\"Final p3: $p3AvgFinalStr\")\n",
    "axis([0, tmax, 0, 1])\n",
    "legend()\n",
    "PyPlot.show(block = false)\n"
   ]
  },
  {
   "cell_type": "code",
   "execution_count": 12,
   "metadata": {},
   "outputs": [],
   "source": []
  }
 ],
 "metadata": {
  "kernelspec": {
   "display_name": "Julia 1.10.3",
   "language": "julia",
   "name": "julia-1.10"
  },
  "language_info": {
   "file_extension": ".jl",
   "mimetype": "application/julia",
   "name": "julia",
   "version": "1.10.3"
  }
 },
 "nbformat": 4,
 "nbformat_minor": 2
}
